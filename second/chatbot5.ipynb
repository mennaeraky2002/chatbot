{
  "nbformat": 4,
  "nbformat_minor": 0,
  "metadata": {
    "colab": {
      "provenance": []
    },
    "kernelspec": {
      "name": "python3",
      "display_name": "Python 3"
    },
    "language_info": {
      "name": "python"
    }
  },
  "cells": [
    {
      "cell_type": "code",
      "execution_count": null,
      "metadata": {
        "colab": {
          "base_uri": "https://localhost:8080/"
        },
        "id": "DhISrKEtdVsk",
        "outputId": "f801a048-df66-4680-ded1-fb6709c61834"
      },
      "outputs": [
        {
          "output_type": "stream",
          "name": "stderr",
          "text": [
            "[nltk_data] Downloading package punkt to /root/nltk_data...\n",
            "[nltk_data]   Package punkt is already up-to-date!\n",
            "[nltk_data] Downloading package wordnet to /root/nltk_data...\n"
          ]
        },
        {
          "output_type": "execute_result",
          "data": {
            "text/plain": [
              "True"
            ]
          },
          "metadata": {},
          "execution_count": 9
        }
      ],
      "source": [
        "import random\n",
        "import json\n",
        "import pickle\n",
        "import numpy as np\n",
        "import tensorflow as tf\n",
        "\n",
        "import nltk\n",
        "from nltk.stem import WordNetLemmatizer\n",
        "\n",
        "import nltk\n",
        "nltk.download('punkt')\n",
        "nltk.download('wordnet')"
      ]
    },
    {
      "cell_type": "code",
      "source": [
        "\n",
        "lemmatizer = WordNetLemmatizer()\n",
        "\n",
        "intents = json.loads(open('/content/drive/MyDrive/intents.json').read())"
      ],
      "metadata": {
        "id": "4qZMg8Ytdcv6"
      },
      "execution_count": null,
      "outputs": []
    },
    {
      "cell_type": "code",
      "source": [
        "words = []\n",
        "classes = []\n",
        "documents = []\n",
        "ignoreLetters = ['?', '!', '.', ',']\n",
        "\n",
        "for intent in intents['intents']:\n",
        "    for pattern in intent['patterns']:\n",
        "        wordList = nltk.word_tokenize(pattern)\n",
        "        words.extend(wordList)\n",
        "        documents.append((wordList, intent['tag']))\n",
        "        if intent['tag'] not in classes:\n",
        "            classes.append(intent['tag'])\n"
      ],
      "metadata": {
        "id": "VFDwk2dvdslH"
      },
      "execution_count": null,
      "outputs": []
    },
    {
      "cell_type": "code",
      "source": [
        "print(documents)"
      ],
      "metadata": {
        "colab": {
          "base_uri": "https://localhost:8080/"
        },
        "id": "Oteh7ey0dwo8",
        "outputId": "224fa75c-9f12-4e10-fafd-a6292fdd3550"
      },
      "execution_count": null,
      "outputs": [
        {
          "output_type": "stream",
          "name": "stdout",
          "text": [
            "[(['Hi'], 'greeting'), (['How', 'are', 'you', '?'], 'greeting'), (['Is', 'anyone', 'there', '?'], 'greeting'), (['Hello'], 'greeting'), (['Good', 'day'], 'greeting'), (['What', \"'s\", 'up'], 'greeting'), (['how', 'are', 'ya'], 'greeting'), (['heyy'], 'greeting'), (['whatsup'], 'greeting'), (['?', '?', '?', '?', '?', '?', '?', '?'], 'greeting'), (['cya'], 'goodbye'), (['see', 'you'], 'goodbye'), (['bye', 'bye'], 'goodbye'), (['See', 'you', 'later'], 'goodbye'), (['Goodbye'], 'goodbye'), (['I', 'am', 'Leaving'], 'goodbye'), (['Bye'], 'goodbye'), (['Have', 'a', 'Good', 'day'], 'goodbye'), (['talk', 'to', 'you', 'later'], 'goodbye'), (['ttyl'], 'goodbye'), (['i', 'got', 'to', 'go'], 'goodbye'), (['gtg'], 'goodbye'), (['what', 'is', 'the', 'name', 'of', 'your', 'developers'], 'creator'), (['what', 'is', 'the', 'name', 'of', 'your', 'creators'], 'creator'), (['what', 'is', 'the', 'name', 'of', 'the', 'developers'], 'creator'), (['what', 'is', 'the', 'name', 'of', 'the', 'creators'], 'creator'), (['who', 'created', 'you'], 'creator'), (['your', 'developers'], 'creator'), (['your', 'creators'], 'creator'), (['who', 'are', 'your', 'developers'], 'creator'), (['developers'], 'creator'), (['you', 'are', 'made', 'by'], 'creator'), (['you', 'are', 'made', 'by', 'whom'], 'creator'), (['who', 'created', 'you'], 'creator'), (['who', 'create', 'you'], 'creator'), (['creators'], 'creator'), (['who', 'made', 'you'], 'creator'), (['who', 'designed', 'you'], 'creator'), (['name'], 'name'), (['your', 'name'], 'name'), (['do', 'you', 'have', 'a', 'name'], 'name'), (['what', 'are', 'you', 'called'], 'name'), (['what', 'is', 'your', 'name'], 'name'), (['what', 'should', 'I', 'call', 'you'], 'name'), (['whats', 'your', 'name', '?'], 'name'), (['what', 'are', 'you'], 'name'), (['who', 'are', 'you'], 'name'), (['who', 'is', 'this'], 'name'), (['what', 'am', 'i', 'chatting', 'to'], 'name'), (['who', 'am', 'i', 'taking', 'to'], 'name'), (['what', 'are', 'you'], 'name'), (['timing', 'of', 'college'], 'hours'), (['what', 'is', 'college', 'timing'], 'hours'), (['working', 'days'], 'hours'), (['when', 'are', 'you', 'guys', 'open'], 'hours'), (['what', 'are', 'your', 'hours'], 'hours'), (['hours', 'of', 'operation'], 'hours'), (['when', 'is', 'the', 'college', 'open'], 'hours'), (['college', 'timing'], 'hours'), (['what', 'about', 'college', 'timing'], 'hours'), (['is', 'college', 'open', 'on', 'saturday'], 'hours'), (['tell', 'something', 'about', 'college', 'timing'], 'hours'), (['what', 'is', 'the', 'college', 'hours'], 'hours'), (['when', 'should', 'i', 'come', 'to', 'college'], 'hours'), (['when', 'should', 'i', 'attend', 'college'], 'hours'), (['what', 'is', 'my', 'college', 'time'], 'hours'), (['college', 'timing'], 'hours'), (['timing', 'college'], 'hours'), (['more', 'info'], 'number'), (['contact', 'info'], 'number'), (['how', 'to', 'contact', 'college'], 'number'), (['college', 'telephone', 'number'], 'number'), (['college', 'number'], 'number'), (['What', 'is', 'your', 'contact', 'no'], 'number'), (['Contact', 'number', '?'], 'number'), (['how', 'to', 'call', 'you'], 'number'), (['College', 'phone', 'no', '?'], 'number'), (['how', 'can', 'i', 'contact', 'you'], 'number'), (['Can', 'i', 'get', 'your', 'phone', 'number'], 'number'), (['how', 'can', 'i', 'call', 'you'], 'number'), (['phone', 'number'], 'number'), (['phone', 'no'], 'number'), (['call'], 'number'), (['list', 'of', 'courses'], 'course'), (['list', 'of', 'courses', 'offered'], 'course'), (['list', 'of', 'courses', 'offered', 'in'], 'course'), (['what', 'are', 'the', 'courses', 'offered', 'in', 'your', 'college', '?'], 'course'), (['courses', '?'], 'course'), (['courses', 'offered'], 'course'), (['courses', 'offered', 'in', '(', 'your', 'univrsity', '(', 'UNI', ')', 'name', ')'], 'course'), (['courses', 'you', 'offer'], 'course'), (['branches', '?'], 'course'), (['courses', 'available', 'at', 'UNI', '?'], 'course'), (['branches', 'available', 'at', 'your', 'college', '?'], 'course'), (['what', 'are', 'the', 'courses', 'in', 'UNI', '?'], 'course'), (['what', 'are', 'branches', 'in', 'UNI', '?'], 'course'), (['what', 'are', 'courses', 'in', 'UNI', '?'], 'course'), (['branches', 'available', 'in', 'UNI', '?'], 'course'), (['can', 'you', 'tell', 'me', 'the', 'courses', 'available', 'in', 'UNI', '?'], 'course'), (['can', 'you', 'tell', 'me', 'the', 'branches', 'available', 'in', 'UNI', '?'], 'course'), (['computer', 'engineering', '?'], 'course'), (['computer'], 'course'), (['Computer', 'engineering', '?'], 'course'), (['it'], 'course'), (['IT'], 'course'), (['Information', 'Technology'], 'course'), (['AI/Ml'], 'course'), (['Mechanical', 'engineering'], 'course'), (['Chemical', 'engineering'], 'course'), (['Civil', 'engineering'], 'course'), (['information', 'about', 'fee'], 'fees'), (['information', 'on', 'fee'], 'fees'), (['tell', 'me', 'the', 'fee'], 'fees'), (['college', 'fee'], 'fees'), (['fee', 'per', 'semester'], 'fees'), (['what', 'is', 'the', 'fee', 'of', 'each', 'semester'], 'fees'), (['what', 'is', 'the', 'fees', 'of', 'each', 'year'], 'fees'), (['what', 'is', 'fee'], 'fees'), (['what', 'is', 'the', 'fees'], 'fees'), (['how', 'much', 'is', 'the', 'fees'], 'fees'), (['fees', 'for', 'first', 'year'], 'fees'), (['fees'], 'fees'), (['about', 'the', 'fees'], 'fees'), (['tell', 'me', 'something', 'about', 'the', 'fees'], 'fees'), (['What', 'is', 'the', 'fees', 'of', 'hostel'], 'fees'), (['how', 'much', 'is', 'the', 'fees'], 'fees'), (['hostel', 'fees'], 'fees'), (['fees', 'for', 'AC', 'room'], 'fees'), (['fees', 'for', 'non-AC', 'room'], 'fees'), (['fees', 'for', 'Ac', 'room', 'for', 'girls'], 'fees'), (['fees', 'for', 'non-Ac', 'room', 'for', 'girls'], 'fees'), (['fees', 'for', 'Ac', 'room', 'for', 'boys'], 'fees'), (['fees', 'for', 'non-Ac', 'room', 'for', 'boys'], 'fees'), (['where', 'is', 'the', 'college', 'located'], 'location'), (['college', 'is', 'located', 'at'], 'location'), (['where', 'is', 'college'], 'location'), (['where', 'is', 'college', 'located'], 'location'), (['address', 'of', 'college'], 'location'), (['how', 'to', 'reach', 'college'], 'location'), (['college', 'location'], 'location'), (['college', 'address'], 'location'), (['wheres', 'the', 'college'], 'location'), (['how', 'can', 'I', 'reach', 'college'], 'location'), (['whats', 'is', 'the', 'college', 'address'], 'location'), (['what', 'is', 'the', 'address', 'of', 'college'], 'location'), (['address'], 'location'), (['location'], 'location'), (['hostel', 'facility'], 'hostel'), (['hostel', 'servive'], 'hostel'), (['hostel', 'location'], 'hostel'), (['hostel', 'address'], 'hostel'), (['hostel', 'facilities'], 'hostel'), (['hostel', 'fees'], 'hostel'), (['Does', 'college', 'provide', 'hostel'], 'hostel'), (['Is', 'there', 'any', 'hostel'], 'hostel'), (['Where', 'is', 'hostel'], 'hostel'), (['do', 'you', 'have', 'hostel'], 'hostel'), (['do', 'you', 'guys', 'have', 'hostel'], 'hostel'), (['hostel'], 'hostel'), (['hostel', 'capacity'], 'hostel'), (['what', 'is', 'the', 'hostel', 'fee'], 'hostel'), (['how', 'to', 'get', 'in', 'hostel'], 'hostel'), (['what', 'is', 'the', 'hostel', 'address'], 'hostel'), (['how', 'far', 'is', 'hostel', 'from', 'college'], 'hostel'), (['hostel', 'college', 'distance'], 'hostel'), (['where', 'is', 'the', 'hostel'], 'hostel'), (['how', 'big', 'is', 'the', 'hostel'], 'hostel'), (['distance', 'between', 'college', 'and', 'hostel'], 'hostel'), (['distance', 'between', 'hostel', 'and', 'college'], 'hostel'), (['events', 'organised'], 'event'), (['list', 'of', 'events'], 'event'), (['list', 'of', 'events', 'organised', 'in', 'college'], 'event'), (['list', 'of', 'events', 'conducted', 'in', 'college'], 'event'), (['What', 'events', 'are', 'conducted', 'in', 'college'], 'event'), (['Are', 'there', 'any', 'event', 'held', 'at', 'college'], 'event'), (['Events', '?'], 'event'), (['functions'], 'event'), (['what', 'are', 'the', 'events'], 'event'), (['tell', 'me', 'about', 'events'], 'event'), (['what', 'about', 'events'], 'event'), (['document', 'to', 'bring'], 'document'), (['documents', 'needed', 'for', 'admision'], 'document'), (['documents', 'needed', 'at', 'the', 'time', 'of', 'admission'], 'document'), (['documents', 'needed', 'during', 'admission'], 'document'), (['documents', 'required', 'for', 'admision'], 'document'), (['documents', 'required', 'at', 'the', 'time', 'of', 'admission'], 'document'), (['documents', 'required', 'during', 'admission'], 'document'), (['What', 'document', 'are', 'required', 'for', 'admission'], 'document'), (['Which', 'document', 'to', 'bring', 'for', 'admission'], 'document'), (['documents'], 'document'), (['what', 'documents', 'do', 'i', 'need'], 'document'), (['what', 'documents', 'do', 'I', 'need', 'for', 'admission'], 'document'), (['documents', 'needed'], 'document'), (['size', 'of', 'campus'], 'floors'), (['building', 'size'], 'floors'), (['How', 'many', 'floors', 'does', 'college', 'have'], 'floors'), (['floors', 'in', 'college'], 'floors'), (['floors', 'in', 'college'], 'floors'), (['how', 'tall', 'is', 'UNI', \"'s\", 'College', 'of', 'Engineering', 'college', 'building'], 'floors'), (['floors'], 'floors'), (['Syllabus', 'for', 'IT'], 'syllabus'), (['what', 'is', 'the', 'Information', 'Technology', 'syllabus'], 'syllabus'), (['syllabus'], 'syllabus'), (['timetable'], 'syllabus'), (['what', 'is', 'IT', 'syllabus'], 'syllabus'), (['syllabus'], 'syllabus'), (['What', 'is', 'next', 'lecture'], 'syllabus'), (['is', 'there', 'any', 'library'], 'library'), (['library', 'facility'], 'library'), (['library', 'facilities'], 'library'), (['do', 'you', 'have', 'library'], 'library'), (['does', 'the', 'college', 'have', 'library', 'facility'], 'library'), (['college', 'library'], 'library'), (['where', 'can', 'i', 'get', 'books'], 'library'), (['book', 'facility'], 'library'), (['Where', 'is', 'library'], 'library'), (['Library'], 'library'), (['Library', 'information'], 'library'), (['Library', 'books', 'information'], 'library'), (['Tell', 'me', 'about', 'library'], 'library'), (['how', 'many', 'libraries'], 'library'), (['how', 'is', 'college', 'infrastructure'], 'infrastructure'), (['infrastructure'], 'infrastructure'), (['college', 'infrastructure'], 'infrastructure'), (['food', 'facilities'], 'canteen'), (['canteen', 'facilities'], 'canteen'), (['canteen', 'facility'], 'canteen'), (['is', 'there', 'any', 'canteen'], 'canteen'), (['Is', 'there', 'a', 'cafetaria', 'in', 'college'], 'canteen'), (['Does', 'college', 'have', 'canteen'], 'canteen'), (['Where', 'is', 'canteen'], 'canteen'), (['where', 'is', 'cafetaria'], 'canteen'), (['canteen'], 'canteen'), (['Food'], 'canteen'), (['Cafetaria'], 'canteen'), (['food', 'menu'], 'menu'), (['food', 'in', 'canteen'], 'menu'), (['Whats', 'there', 'on', 'menu'], 'menu'), (['what', 'is', 'available', 'in', 'college', 'canteen'], 'menu'), (['what', 'foods', 'can', 'we', 'get', 'in', 'college', 'canteen'], 'menu'), (['food', 'variety'], 'menu'), (['What', 'is', 'there', 'to', 'eat', '?'], 'menu'), (['What', 'is', 'college', 'placement'], 'placement'), (['Which', 'companies', 'visit', 'in', 'college'], 'placement'), (['What', 'is', 'average', 'package'], 'placement'), (['companies', 'visit'], 'placement'), (['package'], 'placement'), (['About', 'placement'], 'placement'), (['placement'], 'placement'), (['recruitment'], 'placement'), (['companies'], 'placement'), (['Who', 'is', 'HOD'], 'ithod'), (['Where', 'is', 'HOD'], 'ithod'), (['it', 'hod'], 'ithod'), (['name', 'of', 'it', 'hod'], 'ithod'), (['Who', 'is', 'computer', 'HOD'], 'computerhod'), (['Where', 'is', 'computer', 'HOD'], 'computerhod'), (['computer', 'hod'], 'computerhod'), (['name', 'of', 'computer', 'hod'], 'computerhod'), (['Who', 'is', 'extc', 'HOD'], 'extchod'), (['Where', 'is', 'extc', 'HOD'], 'extchod'), (['extc', 'hod'], 'extchod'), (['name', 'of', 'extc', 'hod'], 'extchod'), (['what', 'is', 'the', 'name', 'of', 'principal'], 'principal'), (['whatv', 'is', 'the', 'principal', 'name'], 'principal'), (['principal', 'name'], 'principal'), (['Who', 'is', 'college', 'principal'], 'principal'), (['Where', 'is', 'principal', \"'s\", 'office'], 'principal'), (['principal'], 'principal'), (['name', 'of', 'principal'], 'principal'), (['exam', 'dates'], 'sem'), (['exam', 'schedule'], 'sem'), (['When', 'is', 'semester', 'exam'], 'sem'), (['Semester', 'exam', 'timetable'], 'sem'), (['sem'], 'sem'), (['semester'], 'sem'), (['exam'], 'sem'), (['when', 'is', 'exam'], 'sem'), (['exam', 'timetable'], 'sem'), (['exam', 'dates'], 'sem'), (['when', 'is', 'semester'], 'sem'), (['what', 'is', 'the', 'process', 'of', 'admission'], 'admission'), (['what', 'is', 'the', 'admission', 'process'], 'admission'), (['How', 'to', 'take', 'admission', 'in', 'your', 'college'], 'admission'), (['What', 'is', 'the', 'process', 'for', 'admission'], 'admission'), (['admission'], 'admission'), (['admission', 'process'], 'admission'), (['scholarship'], 'scholarship'), (['Is', 'scholarship', 'available'], 'scholarship'), (['scholarship', 'engineering'], 'scholarship'), (['scholarship', 'it'], 'scholarship'), (['scholarship', 'ce'], 'scholarship'), (['scholarship', 'mechanical'], 'scholarship'), (['scholarship', 'civil'], 'scholarship'), (['scholarship', 'chemical'], 'scholarship'), (['scholarship', 'for', 'AI/ML'], 'scholarship'), (['available', 'scholarships'], 'scholarship'), (['scholarship', 'for', 'computer', 'engineering'], 'scholarship'), (['scholarship', 'for', 'IT', 'engineering'], 'scholarship'), (['scholarship', 'for', 'mechanical', 'engineering'], 'scholarship'), (['scholarship', 'for', 'civil', 'engineering'], 'scholarship'), (['scholarship', 'for', 'chemical', 'engineering'], 'scholarship'), (['list', 'of', 'scholarship'], 'scholarship'), (['comps', 'scholarship'], 'scholarship'), (['IT', 'scholarship'], 'scholarship'), (['mechanical', 'scholarship'], 'scholarship'), (['civil', 'scholarship'], 'scholarship'), (['chemical', 'scholarship'], 'scholarship'), (['automobile', 'scholarship'], 'scholarship'), (['first', 'year', 'scholarship'], 'scholarship'), (['second', 'year', 'scholarship'], 'scholarship'), (['third', 'year', 'scholarship'], 'scholarship'), (['fourth', 'year', 'scholarship'], 'scholarship'), (['What', 'facilities', 'college', 'provide'], 'facilities'), (['College', 'facility'], 'facilities'), (['What', 'are', 'college', 'facilities'], 'facilities'), (['facilities'], 'facilities'), (['facilities', 'provided'], 'facilities'), (['max', 'number', 'of', 'students'], 'college intake'), (['number', 'of', 'seats', 'per', 'branch'], 'college intake'), (['number', 'of', 'seats', 'in', 'each', 'branch'], 'college intake'), (['maximum', 'number', 'of', 'seats'], 'college intake'), (['maximum', 'students', 'intake'], 'college intake'), (['What', 'is', 'college', 'intake'], 'college intake'), (['how', 'many', 'stundent', 'are', 'taken', 'in', 'each', 'branch'], 'college intake'), (['seat', 'allotment'], 'college intake'), (['seats'], 'college intake'), (['college', 'dress', 'code'], 'uniform'), (['college', 'dresscode'], 'uniform'), (['what', 'is', 'the', 'uniform'], 'uniform'), (['can', 'we', 'wear', 'casuals'], 'uniform'), (['Does', 'college', 'have', 'an', 'uniform'], 'uniform'), (['Is', 'there', 'any', 'uniform'], 'uniform'), (['uniform'], 'uniform'), (['what', 'about', 'uniform'], 'uniform'), (['do', 'we', 'have', 'to', 'wear', 'uniform'], 'uniform'), (['what', 'are', 'the', 'different', 'committe', 'in', 'college'], 'committee'), (['different', 'committee', 'in', 'college'], 'committee'), (['Are', 'there', 'any', 'committee', 'in', 'college'], 'committee'), (['Give', 'me', 'committee', 'details'], 'committee'), (['committee'], 'committee'), (['how', 'many', 'committee', 'are', 'there', 'in', 'college'], 'committee'), (['I', 'love', 'you'], 'random'), (['Will', 'you', 'marry', 'me'], 'random'), (['Do', 'you', 'love', 'me'], 'random'), (['fuck'], 'swear'), (['bitch'], 'swear'), (['shut', 'up'], 'swear'), (['hell'], 'swear'), (['stupid'], 'swear'), (['idiot'], 'swear'), (['dumb', 'ass'], 'swear'), (['asshole'], 'swear'), (['fucker'], 'swear'), (['holidays'], 'vacation'), (['when', 'will', 'semester', 'starts'], 'vacation'), (['when', 'will', 'semester', 'end'], 'vacation'), (['when', 'is', 'the', 'holidays'], 'vacation'), (['list', 'of', 'holidays'], 'vacation'), (['Holiday', 'in', 'these', 'year'], 'vacation'), (['holiday', 'list'], 'vacation'), (['about', 'vacations'], 'vacation'), (['about', 'holidays'], 'vacation'), (['When', 'is', 'vacation'], 'vacation'), (['When', 'is', 'holidays'], 'vacation'), (['how', 'long', 'will', 'be', 'the', 'vacation'], 'vacation'), (['sports', 'and', 'games'], 'sports'), (['give', 'sports', 'details'], 'sports'), (['sports', 'infrastructure'], 'sports'), (['sports', 'facilities'], 'sports'), (['information', 'about', 'sports'], 'sports'), (['Sports', 'activities'], 'sports'), (['please', 'provide', 'sports', 'and', 'games', 'information'], 'sports'), (['okk'], 'salutaion'), (['okie'], 'salutaion'), (['nice', 'work'], 'salutaion'), (['well', 'done'], 'salutaion'), (['good', 'job'], 'salutaion'), (['thanks', 'for', 'the', 'help'], 'salutaion'), (['Thank', 'You'], 'salutaion'), (['its', 'ok'], 'salutaion'), (['Thanks'], 'salutaion'), (['Good', 'work'], 'salutaion'), (['k'], 'salutaion'), (['ok'], 'salutaion'), (['okay'], 'salutaion'), (['what', 'can', 'you', 'do'], 'task'), (['what', 'are', 'the', 'thing', 'you', 'can', 'do'], 'task'), (['things', 'you', 'can', 'do'], 'task'), (['what', 'can', 'u', 'do', 'for', 'me'], 'task'), (['how', 'u', 'can', 'help', 'me'], 'task'), (['why', 'i', 'should', 'use', 'you'], 'task'), (['ragging'], 'ragging'), (['is', 'ragging', 'practice', 'active', 'in', 'college'], 'ragging'), (['does', 'college', 'have', 'any', 'antiragging', 'facility'], 'ragging'), (['is', 'there', 'any', 'ragging', 'cases'], 'ragging'), (['is', 'ragging', 'done', 'here'], 'ragging'), (['ragging', 'against'], 'ragging'), (['antiragging', 'facility'], 'ragging'), (['ragging', 'juniors'], 'ragging'), (['ragging', 'history'], 'ragging'), (['ragging', 'incidents'], 'ragging'), (['hod'], 'hod'), (['hod', 'name'], 'hod'), (['who', 'is', 'the', 'hod'], 'hod')]\n"
          ]
        }
      ]
    },
    {
      "cell_type": "code",
      "source": [
        "words = [lemmatizer.lemmatize(word) for word in words if word not in ignoreLetters]\n",
        "words = sorted(set(words))\n",
        "classes = sorted(set(classes))\n",
        "print(len(classes))"
      ],
      "metadata": {
        "colab": {
          "base_uri": "https://localhost:8080/"
        },
        "id": "Q_d0u_8Yd-MZ",
        "outputId": "2c73bc92-89a7-45c2-f78b-c6262d6338af"
      },
      "execution_count": null,
      "outputs": [
        {
          "output_type": "stream",
          "name": "stdout",
          "text": [
            "38\n"
          ]
        }
      ]
    },
    {
      "cell_type": "code",
      "source": [
        "\n",
        "pickle.dump(words, open('words.pkl', 'wb'))\n",
        "pickle.dump(classes, open('classes.pkl', 'wb'))\n"
      ],
      "metadata": {
        "id": "nhOm1ne6eEgX"
      },
      "execution_count": null,
      "outputs": []
    },
    {
      "cell_type": "code",
      "source": [
        "\n",
        "training = []\n",
        "outputEmpty = [0] * len(classes)\n"
      ],
      "metadata": {
        "id": "EYfBQ_mfeYN4"
      },
      "execution_count": null,
      "outputs": []
    },
    {
      "cell_type": "code",
      "source": [
        "\n",
        "for document in documents:\n",
        "    bag = []\n",
        "    wordPatterns = document[0]\n",
        "    wordPatterns = [lemmatizer.lemmatize(word.lower()) for word in wordPatterns]\n",
        "    for word in words:\n",
        "        bag.append(1) if word in wordPatterns else bag.append(0)\n",
        "\n",
        "    outputRow = list(outputEmpty)\n",
        "    outputRow[classes.index(document[1])] = 1\n",
        "    training.append(bag + outputRow)\n"
      ],
      "metadata": {
        "id": "vYwwDvIqeaNe"
      },
      "execution_count": null,
      "outputs": []
    },
    {
      "cell_type": "code",
      "source": [
        "random.shuffle(training)\n",
        "training = np.array(training)\n",
        "\n",
        "trainX = training[:, :len(words)]\n",
        "trainY = training[:, len(words):]"
      ],
      "metadata": {
        "id": "IJawFNI0ecap"
      },
      "execution_count": null,
      "outputs": []
    },
    {
      "cell_type": "code",
      "source": [
        "print(len(training))"
      ],
      "metadata": {
        "colab": {
          "base_uri": "https://localhost:8080/"
        },
        "id": "yvuMAH_hgXvB",
        "outputId": "aada6300-9dd5-4b42-86f2-c556eea34413"
      },
      "execution_count": null,
      "outputs": [
        {
          "output_type": "stream",
          "name": "stdout",
          "text": [
            "405\n"
          ]
        }
      ]
    },
    {
      "cell_type": "code",
      "source": [
        "model = tf.keras.Sequential()\n",
        "model.add(tf.keras.layers.Dense(128, input_shape=(len(trainX[0]),), activation = 'relu'))\n",
        "model.add(tf.keras.layers.Dropout(0.5))\n",
        "model.add(tf.keras.layers.Dense(64, activation = 'relu'))\n",
        "model.add(tf.keras.layers.Dropout(0.5))\n",
        "model.add(tf.keras.layers.Dense(len(trainY[0]), activation='softmax'))\n"
      ],
      "metadata": {
        "id": "cB2_82eDgahF"
      },
      "execution_count": null,
      "outputs": []
    },
    {
      "cell_type": "code",
      "source": [
        "sgd = tf.keras.optimizers.SGD(learning_rate=0.01, momentum=0.9, nesterov=True)\n",
        "model.compile(loss='categorical_crossentropy', optimizer=sgd, metrics=['accuracy'])"
      ],
      "metadata": {
        "id": "AGNCz4nFhM0S"
      },
      "execution_count": null,
      "outputs": []
    },
    {
      "cell_type": "code",
      "source": [
        "\n",
        "model.fit(trainX, trainY, epochs=200, batch_size=5, verbose=1)\n",
        "model.save('chatbot_model.h5')\n",
        "print('Done')"
      ],
      "metadata": {
        "colab": {
          "base_uri": "https://localhost:8080/"
        },
        "id": "vyM8rAv8hOs0",
        "outputId": "2cfc04ec-2cdc-4f9a-e338-ed93e912f94b"
      },
      "execution_count": null,
      "outputs": [
        {
          "output_type": "stream",
          "name": "stdout",
          "text": [
            "Epoch 1/200\n",
            "81/81 [==============================] - 2s 6ms/step - loss: 3.5900 - accuracy: 0.0642\n",
            "Epoch 2/200\n",
            "81/81 [==============================] - 0s 4ms/step - loss: 3.3708 - accuracy: 0.1654\n",
            "Epoch 3/200\n",
            "81/81 [==============================] - 0s 5ms/step - loss: 3.1424 - accuracy: 0.1753\n",
            "Epoch 4/200\n",
            "81/81 [==============================] - 0s 6ms/step - loss: 2.8767 - accuracy: 0.2444\n",
            "Epoch 5/200\n",
            "81/81 [==============================] - 1s 8ms/step - loss: 2.5515 - accuracy: 0.3432\n",
            "Epoch 6/200\n",
            "81/81 [==============================] - 1s 7ms/step - loss: 2.3399 - accuracy: 0.3605\n",
            "Epoch 7/200\n",
            "81/81 [==============================] - 0s 5ms/step - loss: 2.1723 - accuracy: 0.4099\n",
            "Epoch 8/200\n",
            "81/81 [==============================] - 0s 3ms/step - loss: 1.9571 - accuracy: 0.4667\n",
            "Epoch 9/200\n",
            "81/81 [==============================] - 0s 6ms/step - loss: 1.7889 - accuracy: 0.5235\n",
            "Epoch 10/200\n",
            "81/81 [==============================] - 0s 5ms/step - loss: 1.5961 - accuracy: 0.5333\n",
            "Epoch 11/200\n",
            "81/81 [==============================] - 0s 6ms/step - loss: 1.4038 - accuracy: 0.5901\n",
            "Epoch 12/200\n",
            "81/81 [==============================] - 0s 6ms/step - loss: 1.3584 - accuracy: 0.6099\n",
            "Epoch 13/200\n",
            "81/81 [==============================] - 0s 4ms/step - loss: 1.2822 - accuracy: 0.6444\n",
            "Epoch 14/200\n",
            "81/81 [==============================] - 0s 4ms/step - loss: 1.1610 - accuracy: 0.6914\n",
            "Epoch 15/200\n",
            "81/81 [==============================] - 0s 4ms/step - loss: 1.0120 - accuracy: 0.7136\n",
            "Epoch 16/200\n",
            "81/81 [==============================] - 0s 4ms/step - loss: 0.9174 - accuracy: 0.7531\n",
            "Epoch 17/200\n",
            "81/81 [==============================] - 0s 3ms/step - loss: 1.0002 - accuracy: 0.7136\n",
            "Epoch 18/200\n",
            "81/81 [==============================] - 0s 3ms/step - loss: 0.8533 - accuracy: 0.7580\n",
            "Epoch 19/200\n",
            "81/81 [==============================] - 0s 3ms/step - loss: 0.8247 - accuracy: 0.7531\n",
            "Epoch 20/200\n",
            "81/81 [==============================] - 0s 3ms/step - loss: 0.8311 - accuracy: 0.7432\n",
            "Epoch 21/200\n",
            "81/81 [==============================] - 0s 4ms/step - loss: 0.7994 - accuracy: 0.7531\n",
            "Epoch 22/200\n",
            "81/81 [==============================] - 0s 5ms/step - loss: 0.6900 - accuracy: 0.8074\n",
            "Epoch 23/200\n",
            "81/81 [==============================] - 0s 4ms/step - loss: 0.5512 - accuracy: 0.8395\n",
            "Epoch 24/200\n",
            "81/81 [==============================] - 0s 4ms/step - loss: 0.5716 - accuracy: 0.8296\n",
            "Epoch 25/200\n",
            "81/81 [==============================] - 0s 4ms/step - loss: 0.6002 - accuracy: 0.8198\n",
            "Epoch 26/200\n",
            "81/81 [==============================] - 0s 4ms/step - loss: 0.5638 - accuracy: 0.8296\n",
            "Epoch 27/200\n",
            "81/81 [==============================] - 0s 3ms/step - loss: 0.5000 - accuracy: 0.8568\n",
            "Epoch 28/200\n",
            "81/81 [==============================] - 0s 4ms/step - loss: 0.4881 - accuracy: 0.8617\n",
            "Epoch 29/200\n",
            "81/81 [==============================] - 0s 3ms/step - loss: 0.4876 - accuracy: 0.8494\n",
            "Epoch 30/200\n",
            "81/81 [==============================] - 0s 5ms/step - loss: 0.5454 - accuracy: 0.8420\n",
            "Epoch 31/200\n",
            "81/81 [==============================] - 0s 4ms/step - loss: 0.5033 - accuracy: 0.8346\n",
            "Epoch 32/200\n",
            "81/81 [==============================] - 0s 4ms/step - loss: 0.4832 - accuracy: 0.8593\n",
            "Epoch 33/200\n",
            "81/81 [==============================] - 0s 3ms/step - loss: 0.4573 - accuracy: 0.8568\n",
            "Epoch 34/200\n",
            "81/81 [==============================] - 0s 3ms/step - loss: 0.4255 - accuracy: 0.8716\n",
            "Epoch 35/200\n",
            "81/81 [==============================] - 0s 3ms/step - loss: 0.3897 - accuracy: 0.8938\n",
            "Epoch 36/200\n",
            "81/81 [==============================] - 0s 2ms/step - loss: 0.4681 - accuracy: 0.8519\n",
            "Epoch 37/200\n",
            "81/81 [==============================] - 0s 2ms/step - loss: 0.4231 - accuracy: 0.8716\n",
            "Epoch 38/200\n",
            "81/81 [==============================] - 0s 2ms/step - loss: 0.4682 - accuracy: 0.8642\n",
            "Epoch 39/200\n",
            "81/81 [==============================] - 0s 2ms/step - loss: 0.3726 - accuracy: 0.8914\n",
            "Epoch 40/200\n",
            "81/81 [==============================] - 0s 2ms/step - loss: 0.3669 - accuracy: 0.8691\n",
            "Epoch 41/200\n",
            "81/81 [==============================] - 0s 2ms/step - loss: 0.3046 - accuracy: 0.9185\n",
            "Epoch 42/200\n",
            "81/81 [==============================] - 0s 2ms/step - loss: 0.3824 - accuracy: 0.8864\n",
            "Epoch 43/200\n",
            "81/81 [==============================] - 0s 2ms/step - loss: 0.3291 - accuracy: 0.9037\n",
            "Epoch 44/200\n",
            "81/81 [==============================] - 0s 2ms/step - loss: 0.3160 - accuracy: 0.9086\n",
            "Epoch 45/200\n",
            "81/81 [==============================] - 0s 2ms/step - loss: 0.3804 - accuracy: 0.8815\n",
            "Epoch 46/200\n",
            "81/81 [==============================] - 0s 2ms/step - loss: 0.3709 - accuracy: 0.8840\n",
            "Epoch 47/200\n",
            "81/81 [==============================] - 0s 2ms/step - loss: 0.3106 - accuracy: 0.8963\n",
            "Epoch 48/200\n",
            "81/81 [==============================] - 0s 3ms/step - loss: 0.3269 - accuracy: 0.8938\n",
            "Epoch 49/200\n",
            "81/81 [==============================] - 0s 3ms/step - loss: 0.3112 - accuracy: 0.9012\n",
            "Epoch 50/200\n",
            "81/81 [==============================] - 0s 3ms/step - loss: 0.2739 - accuracy: 0.9136\n",
            "Epoch 51/200\n",
            "81/81 [==============================] - 0s 3ms/step - loss: 0.2584 - accuracy: 0.9111\n",
            "Epoch 52/200\n",
            "81/81 [==============================] - 0s 2ms/step - loss: 0.2588 - accuracy: 0.9309\n",
            "Epoch 53/200\n",
            "81/81 [==============================] - 0s 2ms/step - loss: 0.3398 - accuracy: 0.9062\n",
            "Epoch 54/200\n",
            "81/81 [==============================] - 0s 2ms/step - loss: 0.2522 - accuracy: 0.9185\n",
            "Epoch 55/200\n",
            "81/81 [==============================] - 0s 2ms/step - loss: 0.2567 - accuracy: 0.9111\n",
            "Epoch 56/200\n",
            "81/81 [==============================] - 0s 2ms/step - loss: 0.2816 - accuracy: 0.9062\n",
            "Epoch 57/200\n",
            "81/81 [==============================] - 0s 2ms/step - loss: 0.2896 - accuracy: 0.9235\n",
            "Epoch 58/200\n",
            "81/81 [==============================] - 0s 2ms/step - loss: 0.2612 - accuracy: 0.9309\n",
            "Epoch 59/200\n",
            "81/81 [==============================] - 0s 2ms/step - loss: 0.3076 - accuracy: 0.9012\n",
            "Epoch 60/200\n",
            "81/81 [==============================] - 0s 2ms/step - loss: 0.3066 - accuracy: 0.9086\n",
            "Epoch 61/200\n",
            "81/81 [==============================] - 0s 2ms/step - loss: 0.2270 - accuracy: 0.9383\n",
            "Epoch 62/200\n",
            "81/81 [==============================] - 0s 2ms/step - loss: 0.2361 - accuracy: 0.9309\n",
            "Epoch 63/200\n",
            "81/81 [==============================] - 0s 2ms/step - loss: 0.2075 - accuracy: 0.9284\n",
            "Epoch 64/200\n",
            "81/81 [==============================] - 0s 3ms/step - loss: 0.3087 - accuracy: 0.9012\n",
            "Epoch 65/200\n",
            "81/81 [==============================] - 0s 3ms/step - loss: 0.2479 - accuracy: 0.9259\n",
            "Epoch 66/200\n",
            "81/81 [==============================] - 0s 3ms/step - loss: 0.3094 - accuracy: 0.9037\n",
            "Epoch 67/200\n",
            "81/81 [==============================] - 0s 3ms/step - loss: 0.2491 - accuracy: 0.9358\n",
            "Epoch 68/200\n",
            "81/81 [==============================] - 0s 2ms/step - loss: 0.2375 - accuracy: 0.9383\n",
            "Epoch 69/200\n",
            "81/81 [==============================] - 0s 2ms/step - loss: 0.3723 - accuracy: 0.8716\n",
            "Epoch 70/200\n",
            "81/81 [==============================] - 0s 2ms/step - loss: 0.2810 - accuracy: 0.9062\n",
            "Epoch 71/200\n",
            "81/81 [==============================] - 0s 2ms/step - loss: 0.2397 - accuracy: 0.9383\n",
            "Epoch 72/200\n",
            "81/81 [==============================] - 0s 2ms/step - loss: 0.2467 - accuracy: 0.9185\n",
            "Epoch 73/200\n",
            "81/81 [==============================] - 0s 2ms/step - loss: 0.2287 - accuracy: 0.9309\n",
            "Epoch 74/200\n",
            "81/81 [==============================] - 0s 2ms/step - loss: 0.1725 - accuracy: 0.9506\n",
            "Epoch 75/200\n",
            "81/81 [==============================] - 0s 2ms/step - loss: 0.1686 - accuracy: 0.9506\n",
            "Epoch 76/200\n",
            "81/81 [==============================] - 0s 2ms/step - loss: 0.2260 - accuracy: 0.9309\n",
            "Epoch 77/200\n",
            "81/81 [==============================] - 0s 2ms/step - loss: 0.2257 - accuracy: 0.9333\n",
            "Epoch 78/200\n",
            "81/81 [==============================] - 0s 2ms/step - loss: 0.2793 - accuracy: 0.9086\n",
            "Epoch 79/200\n",
            "81/81 [==============================] - 0s 2ms/step - loss: 0.1832 - accuracy: 0.9407\n",
            "Epoch 80/200\n",
            "81/81 [==============================] - 0s 3ms/step - loss: 0.2410 - accuracy: 0.9160\n",
            "Epoch 81/200\n",
            "81/81 [==============================] - 0s 3ms/step - loss: 0.1984 - accuracy: 0.9333\n",
            "Epoch 82/200\n",
            "81/81 [==============================] - 0s 3ms/step - loss: 0.2136 - accuracy: 0.9457\n",
            "Epoch 83/200\n",
            "81/81 [==============================] - 0s 3ms/step - loss: 0.2590 - accuracy: 0.9235\n",
            "Epoch 84/200\n",
            "81/81 [==============================] - 0s 3ms/step - loss: 0.2019 - accuracy: 0.9259\n",
            "Epoch 85/200\n",
            "81/81 [==============================] - 0s 3ms/step - loss: 0.2188 - accuracy: 0.9210\n",
            "Epoch 86/200\n",
            "81/81 [==============================] - 0s 3ms/step - loss: 0.1978 - accuracy: 0.9259\n",
            "Epoch 87/200\n",
            "81/81 [==============================] - 0s 4ms/step - loss: 0.1942 - accuracy: 0.9333\n",
            "Epoch 88/200\n",
            "81/81 [==============================] - 0s 5ms/step - loss: 0.1880 - accuracy: 0.9407\n",
            "Epoch 89/200\n",
            "81/81 [==============================] - 0s 4ms/step - loss: 0.2447 - accuracy: 0.9284\n",
            "Epoch 90/200\n",
            "81/81 [==============================] - 0s 5ms/step - loss: 0.2228 - accuracy: 0.9210\n",
            "Epoch 91/200\n",
            "81/81 [==============================] - 0s 4ms/step - loss: 0.2158 - accuracy: 0.9333\n",
            "Epoch 92/200\n",
            "81/81 [==============================] - 0s 4ms/step - loss: 0.1663 - accuracy: 0.9556\n",
            "Epoch 93/200\n",
            "81/81 [==============================] - 0s 3ms/step - loss: 0.2274 - accuracy: 0.9160\n",
            "Epoch 94/200\n",
            "81/81 [==============================] - 0s 3ms/step - loss: 0.1586 - accuracy: 0.9605\n",
            "Epoch 95/200\n",
            "81/81 [==============================] - 0s 3ms/step - loss: 0.2221 - accuracy: 0.9284\n",
            "Epoch 96/200\n",
            "81/81 [==============================] - 0s 4ms/step - loss: 0.1821 - accuracy: 0.9506\n",
            "Epoch 97/200\n",
            "81/81 [==============================] - 0s 3ms/step - loss: 0.1508 - accuracy: 0.9457\n",
            "Epoch 98/200\n",
            "81/81 [==============================] - 0s 3ms/step - loss: 0.1759 - accuracy: 0.9531\n",
            "Epoch 99/200\n",
            "81/81 [==============================] - 0s 3ms/step - loss: 0.1954 - accuracy: 0.9333\n",
            "Epoch 100/200\n",
            "81/81 [==============================] - 0s 4ms/step - loss: 0.1888 - accuracy: 0.9407\n",
            "Epoch 101/200\n",
            "81/81 [==============================] - 0s 3ms/step - loss: 0.2212 - accuracy: 0.9284\n",
            "Epoch 102/200\n",
            "81/81 [==============================] - 0s 2ms/step - loss: 0.1666 - accuracy: 0.9457\n",
            "Epoch 103/200\n",
            "81/81 [==============================] - 0s 3ms/step - loss: 0.2014 - accuracy: 0.9358\n",
            "Epoch 104/200\n",
            "81/81 [==============================] - 0s 2ms/step - loss: 0.1871 - accuracy: 0.9407\n",
            "Epoch 105/200\n",
            "81/81 [==============================] - 0s 2ms/step - loss: 0.1419 - accuracy: 0.9506\n",
            "Epoch 106/200\n",
            "81/81 [==============================] - 0s 2ms/step - loss: 0.1425 - accuracy: 0.9580\n",
            "Epoch 107/200\n",
            "81/81 [==============================] - 0s 2ms/step - loss: 0.1360 - accuracy: 0.9432\n",
            "Epoch 108/200\n",
            "81/81 [==============================] - 0s 2ms/step - loss: 0.2085 - accuracy: 0.9333\n",
            "Epoch 109/200\n",
            "81/81 [==============================] - 0s 2ms/step - loss: 0.1986 - accuracy: 0.9333\n",
            "Epoch 110/200\n",
            "81/81 [==============================] - 0s 2ms/step - loss: 0.2041 - accuracy: 0.9358\n",
            "Epoch 111/200\n",
            "81/81 [==============================] - 0s 2ms/step - loss: 0.1644 - accuracy: 0.9506\n",
            "Epoch 112/200\n",
            "81/81 [==============================] - 0s 2ms/step - loss: 0.1529 - accuracy: 0.9605\n",
            "Epoch 113/200\n",
            "81/81 [==============================] - 0s 2ms/step - loss: 0.2101 - accuracy: 0.9333\n",
            "Epoch 114/200\n",
            "81/81 [==============================] - 0s 2ms/step - loss: 0.1661 - accuracy: 0.9506\n",
            "Epoch 115/200\n",
            "81/81 [==============================] - 0s 3ms/step - loss: 0.1393 - accuracy: 0.9531\n",
            "Epoch 116/200\n",
            "81/81 [==============================] - 0s 2ms/step - loss: 0.1662 - accuracy: 0.9506\n",
            "Epoch 117/200\n",
            "81/81 [==============================] - 0s 2ms/step - loss: 0.1382 - accuracy: 0.9407\n",
            "Epoch 118/200\n",
            "81/81 [==============================] - 0s 2ms/step - loss: 0.1667 - accuracy: 0.9580\n",
            "Epoch 119/200\n",
            "81/81 [==============================] - 0s 2ms/step - loss: 0.1443 - accuracy: 0.9531\n",
            "Epoch 120/200\n",
            "81/81 [==============================] - 0s 3ms/step - loss: 0.2109 - accuracy: 0.9259\n",
            "Epoch 121/200\n",
            "81/81 [==============================] - 0s 3ms/step - loss: 0.1565 - accuracy: 0.9481\n",
            "Epoch 122/200\n",
            "81/81 [==============================] - 0s 3ms/step - loss: 0.1754 - accuracy: 0.9506\n",
            "Epoch 123/200\n",
            "81/81 [==============================] - 0s 3ms/step - loss: 0.1846 - accuracy: 0.9309\n",
            "Epoch 124/200\n",
            "81/81 [==============================] - 0s 3ms/step - loss: 0.1645 - accuracy: 0.9506\n",
            "Epoch 125/200\n",
            "81/81 [==============================] - 0s 2ms/step - loss: 0.1977 - accuracy: 0.9284\n",
            "Epoch 126/200\n",
            "81/81 [==============================] - 0s 2ms/step - loss: 0.1778 - accuracy: 0.9284\n",
            "Epoch 127/200\n",
            "81/81 [==============================] - 0s 2ms/step - loss: 0.1605 - accuracy: 0.9481\n",
            "Epoch 128/200\n",
            "81/81 [==============================] - 0s 2ms/step - loss: 0.1429 - accuracy: 0.9556\n",
            "Epoch 129/200\n",
            "81/81 [==============================] - 0s 2ms/step - loss: 0.1488 - accuracy: 0.9432\n",
            "Epoch 130/200\n",
            "81/81 [==============================] - 0s 2ms/step - loss: 0.1653 - accuracy: 0.9457\n",
            "Epoch 131/200\n",
            "81/81 [==============================] - 0s 2ms/step - loss: 0.1158 - accuracy: 0.9654\n",
            "Epoch 132/200\n",
            "81/81 [==============================] - 0s 2ms/step - loss: 0.1458 - accuracy: 0.9481\n",
            "Epoch 133/200\n",
            "81/81 [==============================] - 0s 2ms/step - loss: 0.1460 - accuracy: 0.9630\n",
            "Epoch 134/200\n",
            "81/81 [==============================] - 0s 2ms/step - loss: 0.2057 - accuracy: 0.9383\n",
            "Epoch 135/200\n",
            "81/81 [==============================] - 0s 2ms/step - loss: 0.2349 - accuracy: 0.9160\n",
            "Epoch 136/200\n",
            "81/81 [==============================] - 0s 2ms/step - loss: 0.1985 - accuracy: 0.9407\n",
            "Epoch 137/200\n",
            "81/81 [==============================] - 0s 3ms/step - loss: 0.1639 - accuracy: 0.9605\n",
            "Epoch 138/200\n",
            "81/81 [==============================] - 0s 2ms/step - loss: 0.1720 - accuracy: 0.9432\n",
            "Epoch 139/200\n",
            "81/81 [==============================] - 0s 2ms/step - loss: 0.1440 - accuracy: 0.9531\n",
            "Epoch 140/200\n",
            "81/81 [==============================] - 0s 2ms/step - loss: 0.1367 - accuracy: 0.9556\n",
            "Epoch 141/200\n",
            "81/81 [==============================] - 0s 2ms/step - loss: 0.1507 - accuracy: 0.9580\n",
            "Epoch 142/200\n",
            "81/81 [==============================] - 0s 2ms/step - loss: 0.1946 - accuracy: 0.9383\n",
            "Epoch 143/200\n",
            "81/81 [==============================] - 0s 3ms/step - loss: 0.1730 - accuracy: 0.9333\n",
            "Epoch 144/200\n",
            "81/81 [==============================] - 0s 2ms/step - loss: 0.1831 - accuracy: 0.9333\n",
            "Epoch 145/200\n",
            "81/81 [==============================] - 0s 2ms/step - loss: 0.1579 - accuracy: 0.9506\n",
            "Epoch 146/200\n",
            "81/81 [==============================] - 0s 2ms/step - loss: 0.1453 - accuracy: 0.9556\n",
            "Epoch 147/200\n",
            "81/81 [==============================] - 0s 2ms/step - loss: 0.1337 - accuracy: 0.9630\n",
            "Epoch 148/200\n",
            "81/81 [==============================] - 0s 2ms/step - loss: 0.1622 - accuracy: 0.9333\n",
            "Epoch 149/200\n",
            "81/81 [==============================] - 0s 2ms/step - loss: 0.1636 - accuracy: 0.9580\n",
            "Epoch 150/200\n",
            "81/81 [==============================] - 0s 2ms/step - loss: 0.0999 - accuracy: 0.9630\n",
            "Epoch 151/200\n",
            "81/81 [==============================] - 0s 3ms/step - loss: 0.0991 - accuracy: 0.9630\n",
            "Epoch 152/200\n",
            "81/81 [==============================] - 0s 4ms/step - loss: 0.0914 - accuracy: 0.9654\n",
            "Epoch 153/200\n",
            "81/81 [==============================] - 0s 3ms/step - loss: 0.1431 - accuracy: 0.9531\n",
            "Epoch 154/200\n",
            "81/81 [==============================] - 0s 3ms/step - loss: 0.1285 - accuracy: 0.9531\n",
            "Epoch 155/200\n",
            "81/81 [==============================] - 0s 4ms/step - loss: 0.1276 - accuracy: 0.9556\n",
            "Epoch 156/200\n",
            "81/81 [==============================] - 0s 5ms/step - loss: 0.1722 - accuracy: 0.9506\n",
            "Epoch 157/200\n",
            "81/81 [==============================] - 0s 4ms/step - loss: 0.1124 - accuracy: 0.9605\n",
            "Epoch 158/200\n",
            "81/81 [==============================] - 0s 4ms/step - loss: 0.1104 - accuracy: 0.9654\n",
            "Epoch 159/200\n",
            "81/81 [==============================] - 0s 4ms/step - loss: 0.1126 - accuracy: 0.9654\n",
            "Epoch 160/200\n",
            "81/81 [==============================] - 0s 4ms/step - loss: 0.1102 - accuracy: 0.9605\n",
            "Epoch 161/200\n",
            "81/81 [==============================] - 0s 4ms/step - loss: 0.1262 - accuracy: 0.9605\n",
            "Epoch 162/200\n",
            "81/81 [==============================] - 0s 4ms/step - loss: 0.1397 - accuracy: 0.9630\n",
            "Epoch 163/200\n",
            "81/81 [==============================] - 0s 4ms/step - loss: 0.1304 - accuracy: 0.9531\n",
            "Epoch 164/200\n",
            "81/81 [==============================] - 0s 3ms/step - loss: 0.1153 - accuracy: 0.9679\n",
            "Epoch 165/200\n",
            "81/81 [==============================] - 0s 3ms/step - loss: 0.1302 - accuracy: 0.9556\n",
            "Epoch 166/200\n",
            "81/81 [==============================] - 0s 3ms/step - loss: 0.1313 - accuracy: 0.9605\n",
            "Epoch 167/200\n",
            "81/81 [==============================] - 0s 2ms/step - loss: 0.1186 - accuracy: 0.9580\n",
            "Epoch 168/200\n",
            "81/81 [==============================] - 0s 3ms/step - loss: 0.1565 - accuracy: 0.9531\n",
            "Epoch 169/200\n",
            "81/81 [==============================] - 0s 3ms/step - loss: 0.1745 - accuracy: 0.9407\n",
            "Epoch 170/200\n",
            "81/81 [==============================] - 0s 3ms/step - loss: 0.1229 - accuracy: 0.9531\n",
            "Epoch 171/200\n",
            "81/81 [==============================] - 0s 3ms/step - loss: 0.1817 - accuracy: 0.9531\n",
            "Epoch 172/200\n",
            "81/81 [==============================] - 0s 3ms/step - loss: 0.1492 - accuracy: 0.9531\n",
            "Epoch 173/200\n",
            "81/81 [==============================] - 0s 3ms/step - loss: 0.1176 - accuracy: 0.9654\n",
            "Epoch 174/200\n",
            "81/81 [==============================] - 0s 3ms/step - loss: 0.1769 - accuracy: 0.9605\n",
            "Epoch 175/200\n",
            "81/81 [==============================] - 0s 3ms/step - loss: 0.1295 - accuracy: 0.9481\n",
            "Epoch 176/200\n",
            "81/81 [==============================] - 0s 3ms/step - loss: 0.1821 - accuracy: 0.9506\n",
            "Epoch 177/200\n",
            "81/81 [==============================] - 0s 4ms/step - loss: 0.2088 - accuracy: 0.9457\n",
            "Epoch 178/200\n",
            "81/81 [==============================] - 0s 3ms/step - loss: 0.1397 - accuracy: 0.9506\n",
            "Epoch 179/200\n",
            "81/81 [==============================] - 0s 3ms/step - loss: 0.1306 - accuracy: 0.9556\n",
            "Epoch 180/200\n",
            "81/81 [==============================] - 0s 3ms/step - loss: 0.1253 - accuracy: 0.9556\n",
            "Epoch 181/200\n",
            "81/81 [==============================] - 0s 3ms/step - loss: 0.0824 - accuracy: 0.9778\n",
            "Epoch 182/200\n",
            "81/81 [==============================] - 0s 3ms/step - loss: 0.1204 - accuracy: 0.9630\n",
            "Epoch 183/200\n",
            "81/81 [==============================] - 0s 3ms/step - loss: 0.1840 - accuracy: 0.9358\n",
            "Epoch 184/200\n",
            "81/81 [==============================] - 0s 2ms/step - loss: 0.1117 - accuracy: 0.9506\n",
            "Epoch 185/200\n",
            "81/81 [==============================] - 0s 2ms/step - loss: 0.1266 - accuracy: 0.9630\n",
            "Epoch 186/200\n",
            "81/81 [==============================] - 0s 2ms/step - loss: 0.1393 - accuracy: 0.9580\n",
            "Epoch 187/200\n",
            "81/81 [==============================] - 0s 2ms/step - loss: 0.1217 - accuracy: 0.9630\n",
            "Epoch 188/200\n",
            "81/81 [==============================] - 0s 2ms/step - loss: 0.2236 - accuracy: 0.9259\n",
            "Epoch 189/200\n",
            "81/81 [==============================] - 0s 2ms/step - loss: 0.1056 - accuracy: 0.9605\n",
            "Epoch 190/200\n",
            "81/81 [==============================] - 0s 2ms/step - loss: 0.1499 - accuracy: 0.9556\n",
            "Epoch 191/200\n",
            "81/81 [==============================] - 0s 2ms/step - loss: 0.1201 - accuracy: 0.9580\n",
            "Epoch 192/200\n",
            "81/81 [==============================] - 0s 2ms/step - loss: 0.1188 - accuracy: 0.9531\n",
            "Epoch 193/200\n",
            "81/81 [==============================] - 0s 2ms/step - loss: 0.1043 - accuracy: 0.9679\n",
            "Epoch 194/200\n",
            "81/81 [==============================] - 0s 2ms/step - loss: 0.1024 - accuracy: 0.9630\n",
            "Epoch 195/200\n",
            "81/81 [==============================] - 0s 2ms/step - loss: 0.1656 - accuracy: 0.9481\n",
            "Epoch 196/200\n",
            "81/81 [==============================] - 0s 2ms/step - loss: 0.1421 - accuracy: 0.9605\n",
            "Epoch 197/200\n",
            "81/81 [==============================] - 0s 2ms/step - loss: 0.1374 - accuracy: 0.9580\n",
            "Epoch 198/200\n",
            "81/81 [==============================] - 0s 2ms/step - loss: 0.1372 - accuracy: 0.9531\n",
            "Epoch 199/200\n",
            "81/81 [==============================] - 0s 2ms/step - loss: 0.1243 - accuracy: 0.9654\n",
            "Epoch 200/200\n",
            "81/81 [==============================] - 0s 2ms/step - loss: 0.1745 - accuracy: 0.9457\n",
            "Done\n"
          ]
        }
      ]
    },
    {
      "cell_type": "code",
      "source": [
        "def clean_up_sentence(sentence):\n",
        "  sentence_words = nltk.word_tokenize (sentence)\n",
        "  sentence_words =[lemmatizer.lemmatize (word) for word in sentence_words]\n",
        "  return sentence_words\n",
        "def bag_of_words (sentence):\n",
        "  sentence_words = clean_up_sentence (sentence)\n",
        "  bag = [0] * len(words)\n",
        "  for w in sentence_words:\n",
        "    for i, word in enumerate(words):\n",
        "      if word == w:\n",
        "        bag[i] = 1\n",
        "  return np.array (bag)"
      ],
      "metadata": {
        "id": "1PzYNhDyhQ7t"
      },
      "execution_count": null,
      "outputs": []
    },
    {
      "cell_type": "code",
      "source": [
        "def predict_class(sentence):\n",
        "  bow = bag_of_words (sentence)\n",
        "  res = model.predict(np.array([bow]))[0]\n",
        "  ERROR_THRESHOLD = 0.25\n",
        "  results = [[i, r] for i, r in enumerate(res) if r > ERROR_THRESHOLD]\n",
        "  results.sort(key=lambda x: x[1], reverse=True)\n",
        "  return_list = []\n",
        "  for r in results:\n",
        "    return_list.append({'intent': classes [r[0]], 'probability': str(r[1])})\n",
        "  return return_list\n",
        "def get_response (intents_list, intents_json):\n",
        "  tag=intents_list[0]['intent']\n",
        "  list_of_intents=intents_json['intents']\n",
        "  for i in list_of_intents:\n",
        "    if i['tag'] == tag:\n",
        "        result=random.choice(i['responses'])\n",
        "        break\n",
        "  return result\n",
        "\n"
      ],
      "metadata": {
        "id": "S-pX3A1cjgLk"
      },
      "execution_count": null,
      "outputs": []
    },
    {
      "cell_type": "code",
      "source": [
        "  \n",
        "print(\"GO! Bot is running!\")\n",
        "while True:\n",
        "  message=input(\"\")\n",
        "  if message.lower() == \"quit\":\n",
        "            break\n",
        "  ints=predict_class(message)\n",
        "  res=get_response(ints,intents)\n",
        "  print(res)"
      ],
      "metadata": {
        "colab": {
          "base_uri": "https://localhost:8080/"
        },
        "id": "m4EXTRyVlb_e",
        "outputId": "e4fa5e80-ab74-4450-b3c8-700e61ae0d82"
      },
      "execution_count": null,
      "outputs": [
        {
          "name": "stdout",
          "output_type": "stream",
          "text": [
            "GO! Bot is running!\n",
            "how is weather today\n",
            "1/1 [==============================] - 0s 24ms/step\n",
            "Good to see you again!\n",
            "good bye\n",
            "1/1 [==============================] - 0s 25ms/step\n",
            "Talk to you later\n",
            "who are you\n",
            "1/1 [==============================] - 0s 31ms/step\n",
            "I am your helper\n",
            "what you can help me with\n",
            "1/1 [==============================] - 0s 22ms/step\n",
            "You can ask me questions regarding college, and i will try to answer them\n",
            "am i a good person\n",
            "1/1 [==============================] - 0s 41ms/step\n",
            "Sad to see you go :(\n",
            "am i bad?\n",
            "1/1 [==============================] - 0s 22ms/step\n",
            "Come back soon\n",
            "ok\n",
            "1/1 [==============================] - 0s 38ms/step\n",
            "I am glad I helped you\n",
            "quit\n"
          ]
        }
      ]
    },
    {
      "cell_type": "code",
      "source": [],
      "metadata": {
        "id": "pIpX9rtgmmYd"
      },
      "execution_count": null,
      "outputs": []
    }
  ]
}